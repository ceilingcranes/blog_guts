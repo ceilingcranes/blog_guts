{
 "cells": [
  {
   "cell_type": "markdown",
   "metadata": {},
   "source": [
    "# ELK: Elasticsearch Logstash Kibana\n",
    "\n",
    "ELK Stack is an extremely useful and free analysis, storage, and visualization tool that I used at my internship to provide historical and up-to-date information on important elements of spacecraft storage systems. From the front end, scientists can interact with simple, beautiful, and flexible visualizations of the category of data, the volume over time, and the storage size by spacecraft. The data goes back as far as there are records, and it's simple to change the time range and explore different elements all within an iframe. \n",
    "\n",
    "From the backend, it gets a lot more complicated. The software is free, but the company makes money by teaching companies how to use their software. Luckily for my employer, they have enough interns to just throw at the problem until they can figure it out.\n",
    "\n",
    "My coworker had the  inenviable job of actually setting up the original ELK system to connect with databases and display huge amounts of data. I just had to duplicate a few visualizations from an existing (static) webpage and update the system to the latest version. I only had to install the plugins required for database access once, and it took the two of us several hours. I'm still not convinced it was actually working at the end, I have no idea how he managed it in the first place. I still shudder at the mention of Ruby gems.\n",
    "\n",
    "To create the visualizations, the system first uses Logstash to read in data from log files. This data is stored in elasticsearch, which provides a quick and easy way to view, filter, and examine the data, and finally, Kibana was used to create the actual visualization in a slick browser interface. \n",
    "\n",
    "By far, the hardest part of the project was getting the different systems working together properly. The vast majority of the problems stemmed from the config files used by Logstash to read in different files. I went down so many rabbit holes that never ended up going anywhere, like trying to read them in using a csv plugin. \n",
    "\n",
    "Ultimately, the best way ended up being [Grok](https://www.elastic.co/guide/en/logstash/current/plugins-filters-grok.html)- a great filtering system that allowed me to read in from multiple files in the same configuration file and consolidate all my data in a really lovely way. \n",
    "\n"
   ]
  },
  {
   "cell_type": "code",
   "execution_count": null,
   "metadata": {
    "collapsed": true
   },
   "outputs": [],
   "source": []
  }
 ],
 "metadata": {
  "kernelspec": {
   "display_name": "Python 3",
   "language": "python",
   "name": "python3"
  },
  "language_info": {
   "codemirror_mode": {
    "name": "ipython",
    "version": 3
   },
   "file_extension": ".py",
   "mimetype": "text/x-python",
   "name": "python",
   "nbconvert_exporter": "python",
   "pygments_lexer": "ipython3",
   "version": "3.6.1"
  }
 },
 "nbformat": 4,
 "nbformat_minor": 2
}
