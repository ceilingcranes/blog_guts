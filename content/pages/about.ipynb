{
 "cells": [
  {
   "cell_type": "markdown",
   "metadata": {},
   "source": [
    "# My name is Maxine\n",
    "\n",
    "I'm a computer science major in my junior year at the University of Colorado. I currently work at LASP, primarily with data analysis and visualisation of data from NASA satellites. My primary work is on the [MMS Mission](https://lasp.colorado.edu/mms/sdc/public/) creating data visualizations to aid scientists.\n",
    "\n",
    "My interests include data analysis and visualizations, algorithm development, creative writing, and astronomy. My favorite place to be is a museum, and I love to travel, go to concerts, and see movies. "
   ]
  }
 ],
 "metadata": {
  "kernelspec": {
   "display_name": "Python 3",
   "language": "python",
   "name": "python3"
  },
  "language_info": {
   "codemirror_mode": {
    "name": "ipython",
    "version": 3
   },
   "file_extension": ".py",
   "mimetype": "text/x-python",
   "name": "python",
   "nbconvert_exporter": "python",
   "pygments_lexer": "ipython3",
   "version": "3.6.1"
  }
 },
 "nbformat": 4,
 "nbformat_minor": 2
}
