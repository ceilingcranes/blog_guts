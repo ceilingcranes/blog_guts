{
 "cells": [
  {
   "cell_type": "markdown",
   "metadata": {},
   "source": [
    "# Using QR Factorization to Analyze Trappist-1 data\n",
    "\n",
    "One of the ways that planetary scientists detect exoplanets that are many light years away is by\n",
    "detecting the dimming of a distant sun as a planet passes in front of it. It seems like this can’t provide a\n",
    "lot of data about a distant system, but by using linear regression, we can estimate the period and from\n",
    "there, derive a lot of other information about the planetary system we are looking at.\n",
    "\n",
    "There are plenty of ways to do linear regression, but I wanted to try writing code by hand that would let me analyze this data, using techniques learned in my Numerical Computation class. My astronomy professor, Zach Berta-Thompson, helped me by providing the following data table:"
   ]
  },
  {
   "cell_type": "markdown",
   "metadata": {},
   "source": [
    "<img src=\"trappist_times.png\">"
   ]
  },
  {
   "cell_type": "markdown",
   "metadata": {},
   "source": [
    "This data has two values: the epoch number, or the number of the transit, and a time in\n",
    "barycentric Julian days(BJD). BJD has units of days, with an offset for Julian days, adjusted for the solar system. The epoch is the count of the orbits of the planet. These two numbers have a linear relationship, which means I can apply a regression line and get an estimate of the slope and intercept. This slope is in the units of days/epoch, meaning it will give us the estimated value of the period of the planet.\n",
    "\n",
    "If you plot the data, you can see the linear relationship.\n",
    "\n",
    "To begin with, I took the Trappist-1 data and applied a matrix-based least\n",
    "squares equation. This involves creating a matrix A, with the first column being the x values, here the\n",
    "epoch data, and the second being all ones. We set that equal to a 1xn matrix of the y data, here the\n",
    "barycentric Julian days. This basically means we can solve for y = ax+b, where y and x are from the\n",
    "data and a and b will be the slope and y-intercept of the best fit line."
   ]
  },
  {
   "cell_type": "code",
   "execution_count": 41,
   "metadata": {
    "collapsed": true
   },
   "outputs": [],
   "source": [
    "import matplotlib.pylab as plt\n",
    "import numpy as np\n",
    "import random\n",
    "import math\n",
    "\n",
    "# Data from image\n",
    "epochb = np.array([0,2,6,8,10,12,15,26,28])\n",
    "bjdb = np.array([7322.5161,7325.5391,7331.5803,7334.60490,7337.6249,7340.6474,7345.18011,7361.79960,7364.82137])"
   ]
  },
  {
   "cell_type": "code",
   "execution_count": 42,
   "metadata": {},
   "outputs": [
    {
     "data": {
      "image/png": "[encoded data removed]",
      "text/plain": [
       "<matplotlib.figure.Figure at 0x7faa81769160>"
      ]
     },
     "metadata": {},
     "output_type": "display_data"
    }
   ],
   "source": [
    "plt.figure(figsize=[14,7])\n",
    "plt.plot(epochb, bjdb, 'bo')\n",
    "plt.title(\"Epoch vs BJD for Trappist-1b\")\n",
    "plt.xlabel(\"Epoch\")\n",
    "plt.ylabel(\"BJD\")\n",
    "plt.show()"
   ]
  },
  {
   "cell_type": "markdown",
   "metadata": {},
   "source": [
    "To start, I attempted to use the root mean squares method to create a regression line. This involves putting the points in a matrix and attempting to solve Ax=y, where A is the design matrix (the list of epoch values prepended with a column of ones to account for the intercept) and y is the value we are attempting to predict, i.e. the time in BJD. This method returns a 2x1 matrix, consisting of the intercept and the slope of the predicted line."
   ]
  },
  {
   "cell_type": "code",
   "execution_count": 43,
   "metadata": {},
   "outputs": [
    {
     "name": "stdout",
     "output_type": "stream",
     "text": [
      "Condition number of matrix: 3878624.662889085\n",
      "Predicted Intercept: -4846.487281662674\n",
      "Predicted slope: 0.6618608902920844\n"
     ]
    }
   ],
   "source": [
    "# Root Mean squares using A^T*A*x = A^T*b method\n",
    "def rootms(x, y):\n",
    "    if len(x) != len(y):\n",
    "        print(\"Error: Input array sizes must match.\")\n",
    "        return -1\n",
    "    a1 = [1 for i in range(0, len(x))]\n",
    "\n",
    "    # Slightly backwards - easier to find A^T and then transpose that ([A^T]^T = A)\n",
    "    aT = np.matrix([y, a1])\n",
    "    a = np.transpose(aT)\n",
    "    b = np.transpose(np.matrix([x]))\n",
    "    print(\"Condition number of matrix: {}\".format(np.linalg.cond(a)))\n",
    "\n",
    "    x = np.linalg.inv(aT*a)*aT*b\n",
    "\n",
    "    return x\n",
    "\n",
    "line = rootms(epochb, bjdb)\n",
    "rmsintercept = line.item(1)\n",
    "rmsslope = line.item(0)\n",
    "print(\"Predicted Intercept: {}\".format(rmsintercept))\n",
    "print(\"Predicted slope: {}\".format(rmsslope))"
   ]
  },
  {
   "cell_type": "code",
   "execution_count": 44,
   "metadata": {},
   "outputs": [
    {
     "data": {
      "image/png": "[encoded data removed]",
      "text/plain": [
       "<matplotlib.figure.Figure at 0x7faa81b06b38>"
      ]
     },
     "metadata": {},
     "output_type": "display_data"
    }
   ],
   "source": [
    "x = np.arange(epochb[0], epochb[-1])\n",
    "y = rmsslope*x+rmsintercept\n",
    "\n",
    "plt.figure(figsize=[14,7])\n",
    "plt.plot(epochb, bjdb, 'bo')\n",
    "plt.plot(x,y, color='red', label='RMS Line')\n",
    "plt.title(\"Epoch vs BJD for Trappist-1b\")\n",
    "plt.xlabel(\"Epoch\")\n",
    "plt.ylabel(\"BJD\")\n",
    "plt.show()"
   ]
  },
  {
   "cell_type": "markdown",
   "metadata": {},
   "source": [
    "Well, that isn't right. What's happening here is a little subtle. This method is sensitive to the values within the matrices, and the accuracy can be measured by the _conditionality_ of the matrix. As you can see above, the condition number of the A matrix used is $3878624.662889085$. The larger the number, the more _ill-conditioned_ a matrix is, and  the greater the error. This has to do with the way the computer stores the numbers - they aren't perfect. In the case of extremely small numbers, there is some degree of accuracy that is lost, and if the method is sensitive to changes in conditions, as RMS is, this can quickly lead to a snowball of error. Therefore, this method isn't going to work. \n",
    "\n",
    "Luckily, there is another method that can be used for linear regression, known as QR Factorization. It isn't as sensitive to errors as RMS. My method uses householder reflectors to calculate Q and R, in a complicated method that I won't cover in detail here. I got my information from [Sauer's Numerical Analysis, 2nd edition book](https://www.amazon.com/Numerical-Analysis-2nd-Timothy-Sauer/dp/0321783670)."
   ]
  },
  {
   "cell_type": "code",
   "execution_count": 47,
   "metadata": {},
   "outputs": [
    {
     "name": "stdout",
     "output_type": "stream",
     "text": [
      "Householder intercept: 7322.51648765625\n",
      "Householder slope: 1.5108915055490684\n"
     ]
    }
   ],
   "source": [
    "# Project a vector x into n-1 dimensional space\n",
    "def project(x):\n",
    "    cond = 0\n",
    "    w = np.zeros(len(x))\n",
    "    for r in x:\n",
    "        cond += math.pow(r, 2)\n",
    "    w[0] = math.sqrt(cond)\n",
    "    w = np.transpose(np.matrix(w))\n",
    "\n",
    "    v = w - x\n",
    "    P = (v * np.transpose(v)) / (np.transpose(v) * v)\n",
    "    return np.identity(len(P)) - 2 * P\n",
    "\n",
    "# given a 2xn matrix A and a 1xn matrix b, will solve for a root mean\n",
    "# squares solution using QR factorization. Returns the x matrix.\n",
    "def householder(epochb,bjdb):\n",
    "    a1 = [1 for i in range(0, len(bjdb))]\n",
    "\n",
    "    # Slightly backwards - easier to find A^T and then transpose that ([A^T]^T = A)\n",
    "    aT = np.matrix([epochb, a1])\n",
    "    A = np.transpose(aT)\n",
    "    b = np.transpose(np.matrix(bjdb))\n",
    "    \n",
    "    # First column = x\n",
    "    x=A[:,0:1]\n",
    "\n",
    "    H1 = project(x)\n",
    "    H1A = H1*A\n",
    "\n",
    "    # Value for H2 - second column excluding the first value to avoid messing it up\n",
    "    x = H1A[1:,1:]\n",
    "    H2_int = project(x)\n",
    "\n",
    "    # Put in the correct form - first row and column as ID matrix, again to avoid messing up first value.\n",
    "    H2 = np.matrix(np.zeros(len(np.array(x))))\n",
    "    H2 = np.concatenate((H2, H2_int))\n",
    "    id = np.zeros(len(np.array(x))+1)\n",
    "    id[0] = 1\n",
    "    H2 = np.concatenate((np.transpose(np.matrix(id)), H2), axis=1)\n",
    "\n",
    "    R = H2*H1*A\n",
    "\n",
    "    Q = H1*H2\n",
    "    R = R[:2, :2]\n",
    "    d = (np.transpose(Q)*b)\n",
    "    d = d[:2]\n",
    "\n",
    "    # Solve Rx = d where R is upper nxn of R, and d is upper n of Q^T*b\n",
    "    x = np.linalg.inv(R)*d\n",
    "    return x\n",
    "\n",
    "hh = householder(epochb, bjdb)\n",
    "hhintercept = hh.item(1)\n",
    "hhslope = hh.item(0)\n",
    "print(\"Householder intercept: {}\".format(hhintercept))\n",
    "print(\"Householder slope: {}\".format(hhslope))"
   ]
  },
  {
   "cell_type": "markdown",
   "metadata": {},
   "source": [
    "Let's plot the new values of the intercept and slope to compare."
   ]
  },
  {
   "cell_type": "code",
   "execution_count": 49,
   "metadata": {},
   "outputs": [
    {
     "data": {
      "image/png": "[encoded data removed]",
      "text/plain": [
       "<matplotlib.figure.Figure at 0x7faa8192bcc0>"
      ]
     },
     "metadata": {},
     "output_type": "display_data"
    }
   ],
   "source": [
    "x = np.arange(epochb[0], epochb[-1]+1)\n",
    "y = hhslope*x+hhintercept\n",
    "\n",
    "plt.figure(figsize=[14,7])\n",
    "plt.plot(epochb, bjdb, 'bo')\n",
    "plt.plot(x,y, color='red', label='HH Line')\n",
    "plt.title(\"Epoch vs BJD for Trappist-1b\")\n",
    "plt.xlabel(\"Epoch\")\n",
    "plt.ylabel(\"BJD\")\n",
    "plt.show()"
   ]
  },
  {
   "cell_type": "markdown",
   "metadata": {},
   "source": [
    "As you can see, this line is a lot closer to the points were were looking at. \n",
    "\n",
    "From the slope of this line, I can estimate the period of Trappist-1b as $1.51089150554$ days. \n",
    "\n",
    "The official period, in days, of Trappist-1 b is $1.51087081±0.00000060$ days. This means I have a relative error of $1.94 *10^{-5}$. My estimation is off from the official period by 2.53 seconds. \n",
    "\n",
    "Linear regression is extremely useful, although it's more common for people to use Stochastic gradient descent that QR factorization. However, it's interesting to see the ways something so small, like the error in computer numbers, can affect a method so heavily. "
   ]
  },
  {
   "cell_type": "markdown",
   "metadata": {},
   "source": [
    "##### Sources:\n",
    "Sauer, Numerical Analysis, 2nd edition\n",
    "\n",
    "Gillon et al, \"Temperate Earth-sized planets transiting a nearby ultracool dwarf star.\" http://www.eso.org/public/archives/releases/sciencepapers/eso1615/eso1615a.pdf\n",
    "\n",
    "## Code and additional analysis on [my github](https://github.com/ceilingcranes/trappist-analysis)."
   ]
  },
  {
   "cell_type": "code",
   "execution_count": null,
   "metadata": {
    "collapsed": true
   },
   "outputs": [],
   "source": []
  }
 ],
 "metadata": {
  "kernelspec": {
   "display_name": "Python 3",
   "language": "python",
   "name": "python3"
  },
  "language_info": {
   "codemirror_mode": {
    "name": "ipython",
    "version": 3
   },
   "file_extension": ".py",
   "mimetype": "text/x-python",
   "name": "python",
   "nbconvert_exporter": "python",
   "pygments_lexer": "ipython3",
   "version": "3.6.1"
  }
 },
 "nbformat": 4,
 "nbformat_minor": 2
}
